{
 "cells": [
  {
   "cell_type": "markdown",
   "metadata": {},
   "source": [
    "# Enron - How many POIs can we predict?\n",
    "\n",
    "### Index\n",
    "\n",
    "1. Set variables\n",
    "2. Data cleansing\n",
    "3. New features\n",
    "4. Preparing the data for the split\n",
    "5. Spliting data into train and test\n",
    "6. Selecting features\n",
    "7. Testing models\n",
    "8. Tuning Algorithm Parameters"
   ]
  },
  {
   "cell_type": "code",
   "execution_count": 1,
   "metadata": {
    "collapsed": false
   },
   "outputs": [
    {
     "name": "stderr",
     "output_type": "stream",
     "text": [
      "C:\\Users\\lieby\\Anaconda2\\lib\\site-packages\\sklearn\\cross_validation.py:44: DeprecationWarning: This module was deprecated in version 0.18 in favor of the model_selection module into which all the refactored classes and functions are moved. Also note that the interface of the new CV iterators are different from that of this module. This module will be removed in 0.20.\n",
      "  \"This module will be removed in 0.20.\", DeprecationWarning)\n",
      "C:\\Users\\lieby\\Anaconda2\\lib\\site-packages\\sklearn\\grid_search.py:43: DeprecationWarning: This module was deprecated in version 0.18 in favor of the model_selection module into which all the refactored classes and functions are moved. This module will be removed in 0.20.\n",
      "  DeprecationWarning)\n"
     ]
    }
   ],
   "source": [
    "import sys\n",
    "import pickle\n",
    "sys.path.append(\"../tools/\")\n",
    "\n",
    "from feature_format import featureFormat, targetFeatureSplit\n",
    "from tester import dump_classifier_and_data, test_classifier\n",
    "from sklearn import model_selection\n",
    "from time import time\n",
    "import pandas as pd\n",
    "import pylab as pl\n",
    "import numpy as np\n",
    "import matplotlib.pyplot as plt\n",
    "%matplotlib inline\n",
    "import seaborn as sb\n",
    "\n",
    "from sklearn.cross_validation import StratifiedShuffleSplit\n",
    "    \n",
    "# Preprocessing\n",
    "from sklearn.preprocessing import  MaxAbsScaler, StandardScaler, MinMaxScaler\n",
    "\n",
    "#Models\n",
    "from sklearn.naive_bayes import GaussianNB\n",
    "from sklearn.linear_model import LogisticRegression\n",
    "from sklearn.feature_selection import SelectKBest,chi2, f_classif\n",
    "from sklearn.ensemble import RandomForestClassifier, AdaBoostClassifier, GradientBoostingClassifier, ExtraTreesClassifier\n",
    "from sklearn.neighbors import KNeighborsClassifier, NearestCentroid\n",
    "from sklearn.tree import DecisionTreeClassifier\n",
    "\n",
    "#Feature selection\n",
    "from sklearn.decomposition import PCA,RandomizedPCA, TruncatedSVD\n",
    "from sklearn.feature_selection import SelectKBest,chi2, f_regression\n",
    "\n",
    "\n",
    "#pipeline\n",
    "from sklearn.pipeline import Pipeline, FeatureUnion\n",
    "from sklearn.grid_search import GridSearchCV"
   ]
  },
  {
   "cell_type": "markdown",
   "metadata": {
    "collapsed": true
   },
   "source": [
    "In the next steps the data will be cleaned, if you want to understand the process, check: \n",
    "https://github.com/liebycardoso/ML_Enron/blob/master/Enron_Data_Analysis.ipynb"
   ]
  },
  {
   "cell_type": "markdown",
   "metadata": {},
   "source": [
    "### 1. Set variables"
   ]
  },
  {
   "cell_type": "code",
   "execution_count": 2,
   "metadata": {
    "collapsed": true
   },
   "outputs": [],
   "source": [
    "target_label = 'poi'                \n",
    "\n",
    "financial_features_list = [\n",
    "    'bonus',\n",
    "    'deferral_payments',\n",
    "    'deferred_income',\n",
    "    'director_fees',\n",
    "    'exercised_stock_options',\n",
    "    'expenses',\n",
    "    'loan_advances',\n",
    "    'long_term_incentive',\n",
    "    'other',\n",
    "    'restricted_stock',\n",
    "    'restricted_stock_deferred',\n",
    "    'salary'\n",
    "]\n",
    "\n",
    "features_list = [target_label] + financial_features_list  "
   ]
  },
  {
   "cell_type": "markdown",
   "metadata": {},
   "source": [
    "### 2. Data cleansing"
   ]
  },
  {
   "cell_type": "code",
   "execution_count": 3,
   "metadata": {
    "collapsed": false
   },
   "outputs": [],
   "source": [
    "with open(\"P:/Nanodegree/ML/ud120-projects/tools/final_project_dataset.pkl\", \"r\") as data_file:\n",
    "    data_dict = pickle.load(data_file)\n",
    "\n",
    "### Task 2: Remove outliers\n",
    "outliers = [\"TOTAL\", \"THE TRAVEL AGENCY IN THE PARK\", \"LOCKHART EUGENE E\", \"CHAN RONNIE\"]\n",
    "for outlier in outliers :\n",
    "    data_dict.pop(outlier, 0)\n",
    "\n",
    "\n",
    "def update_dict_value(key, items, values, dict_obj):\n",
    "    index = 0\n",
    "    for item in items:     \n",
    "        dict_obj[key][item] = values[index]\n",
    "        index += 1\n",
    "    return dict_obj       \n",
    "\n",
    "    \n",
    "data_dict = update_dict_value(\n",
    "              'BELFER ROBERT',\n",
    "              ['deferred_income','deferral_payments', 'expenses', \n",
    "               'director_fees', 'total_payments', 'exercised_stock_options',\n",
    "               'restricted_stock','restricted_stock_deferred',\n",
    "               'total_stock_value'], \n",
    "              [-102500,'NaN',3285,102500, 3285,'NaN', 44093,-44093,'NaN'],\n",
    "              data_dict)\n",
    "\n",
    "\n",
    "data_dict = update_dict_value(\n",
    "              'BHATNAGAR SANJAY',\n",
    "              ['other', 'expenses', 'director_fees', 'total_payments',\n",
    "               'exercised_stock_options','restricted_stock',\n",
    "               'restricted_stock_deferred','total_stock_value'],\n",
    "              ['NaN',137864, 'NaN', 137864, 15456290, \n",
    "               2604490, -2604490, 15456290],\n",
    "               data_dict)\n"
   ]
  },
  {
   "cell_type": "markdown",
   "metadata": {
    "collapsed": false
   },
   "source": [
    "### 3. New features"
   ]
  },
  {
   "cell_type": "code",
   "execution_count": 4,
   "metadata": {
    "collapsed": false
   },
   "outputs": [],
   "source": [
    "for key in data_dict:\n",
    "    key_values = data_dict[key]\n",
    "\n",
    "    total_msg = (data_dict[key]['to_messages'] + \n",
    "                 data_dict[key]['from_messages'])\n",
    "    \n",
    "    total_poi_msg = (data_dict[key]['from_poi_to_this_person'] +\n",
    "                     data_dict[key]['from_this_person_to_poi'] + \n",
    "                     data_dict[key]['shared_receipt_with_poi'])     \n",
    "        \n",
    "    try:\n",
    "        data_dict[key]['message_poi_ratio'] = np.round((float(total_poi_msg) / \n",
    "                                           float(total_msg)), decimals=2)*100\n",
    "    except:\n",
    "        data_dict[key]['message_poi_ratio'] = \"NaN\"\n",
    "        \n",
    "    try:\n",
    "        data_dict[key]['message_others_ratio'] = np.round(((float(total_msg) - float(total_poi_msg)) / \n",
    "                                          float(total_msg)), decimals=2)*100\n",
    "    except:\n",
    "        data_dict[key]['message_others_ratio'] = \"NaN\"\n",
    "\n",
    "features_list = features_list + ['message_poi_ratio','message_others_ratio'] \n",
    "\n"
   ]
  },
  {
   "cell_type": "markdown",
   "metadata": {},
   "source": [
    "### 4. Preparing the data for the split"
   ]
  },
  {
   "cell_type": "code",
   "execution_count": 5,
   "metadata": {
    "collapsed": false
   },
   "outputs": [],
   "source": [
    "# Store to my_dataset for easy export below.\n",
    "my_dataset = data_dict\n",
    "\n",
    "enron_df = pd.DataFrame.from_dict(data_dict, orient='index', dtype=float)\n",
    "\n",
    "# Extract features and labels from dataset for local testing\n",
    "data = featureFormat(my_dataset, features_list, remove_NaN=True, sort_keys = True)\n",
    "labels, features = targetFeatureSplit(data)"
   ]
  },
  {
   "cell_type": "markdown",
   "metadata": {
    "collapsed": false
   },
   "source": [
    "### 5. Spliting data into train and test"
   ]
  },
  {
   "cell_type": "code",
   "execution_count": 6,
   "metadata": {
    "collapsed": false
   },
   "outputs": [],
   "source": [
    "\n",
    "# transformed version of X\n",
    "# scaler = MinMaxScaler(feature_range=(0, 1))\n",
    "# X_scaled = scaler.fit_transform(features)\n",
    "\n",
    "# Split the dataset into train and test\n",
    "features_train, features_test, labels_train, labels_test = model_selection.train_test_split(features, \n",
    "                                                                                            labels,  \n",
    "                                                                                            test_size=0.3, \n",
    "                                                                                            random_state=42)"
   ]
  },
  {
   "cell_type": "markdown",
   "metadata": {},
   "source": [
    "Since tje features have quite differente value ranges and some of them are discrete and some of them take continous values, I need to scale them first. Removing mean and dividing the standard deviation o features respectively, this one of the most commonly used preprocessing step."
   ]
  },
  {
   "cell_type": "markdown",
   "metadata": {},
   "source": [
    "# 6. Selecting features"
   ]
  },
  {
   "cell_type": "code",
   "execution_count": 7,
   "metadata": {
    "collapsed": false
   },
   "outputs": [
    {
     "data": {
      "text/html": [
       "<div>\n",
       "<table border=\"1\" class=\"dataframe\">\n",
       "  <thead>\n",
       "    <tr style=\"text-align: right;\">\n",
       "      <th></th>\n",
       "      <th>poi</th>\n",
       "      <th>bonus</th>\n",
       "      <th>deferral_payments</th>\n",
       "      <th>deferred_income</th>\n",
       "      <th>director_fees</th>\n",
       "      <th>exercised_stock_options</th>\n",
       "      <th>expenses</th>\n",
       "      <th>loan_advances</th>\n",
       "      <th>long_term_incentive</th>\n",
       "      <th>other</th>\n",
       "      <th>restricted_stock</th>\n",
       "      <th>restricted_stock_deferred</th>\n",
       "      <th>salary</th>\n",
       "      <th>message_poi_ratio</th>\n",
       "      <th>message_others_ratio</th>\n",
       "    </tr>\n",
       "  </thead>\n",
       "  <tbody>\n",
       "    <tr>\n",
       "      <th>poi</th>\n",
       "      <td>1.000000</td>\n",
       "      <td>0.302384</td>\n",
       "      <td>-0.107254</td>\n",
       "      <td>-0.265665</td>\n",
       "      <td>NaN</td>\n",
       "      <td>0.481875</td>\n",
       "      <td>0.055209</td>\n",
       "      <td>0.999851</td>\n",
       "      <td>0.254723</td>\n",
       "      <td>0.119166</td>\n",
       "      <td>0.218074</td>\n",
       "      <td>NaN</td>\n",
       "      <td>0.264976</td>\n",
       "      <td>0.278311</td>\n",
       "      <td>-0.278311</td>\n",
       "    </tr>\n",
       "    <tr>\n",
       "      <th>bonus</th>\n",
       "      <td>0.302384</td>\n",
       "      <td>1.000000</td>\n",
       "      <td>0.293543</td>\n",
       "      <td>-0.411659</td>\n",
       "      <td>NaN</td>\n",
       "      <td>0.506998</td>\n",
       "      <td>0.033799</td>\n",
       "      <td>0.973826</td>\n",
       "      <td>0.625259</td>\n",
       "      <td>0.376371</td>\n",
       "      <td>0.376992</td>\n",
       "      <td>0.118222</td>\n",
       "      <td>0.523190</td>\n",
       "      <td>-0.082795</td>\n",
       "      <td>0.082795</td>\n",
       "    </tr>\n",
       "    <tr>\n",
       "      <th>deferral_payments</th>\n",
       "      <td>-0.107254</td>\n",
       "      <td>0.293543</td>\n",
       "      <td>1.000000</td>\n",
       "      <td>-0.881500</td>\n",
       "      <td>NaN</td>\n",
       "      <td>0.006560</td>\n",
       "      <td>0.004800</td>\n",
       "      <td>-1.000000</td>\n",
       "      <td>0.042448</td>\n",
       "      <td>0.385829</td>\n",
       "      <td>0.115088</td>\n",
       "      <td>-0.217200</td>\n",
       "      <td>0.455884</td>\n",
       "      <td>0.247904</td>\n",
       "      <td>-0.247904</td>\n",
       "    </tr>\n",
       "    <tr>\n",
       "      <th>deferred_income</th>\n",
       "      <td>-0.265665</td>\n",
       "      <td>-0.411659</td>\n",
       "      <td>-0.881500</td>\n",
       "      <td>1.000000</td>\n",
       "      <td>-0.471247</td>\n",
       "      <td>-0.308076</td>\n",
       "      <td>0.085678</td>\n",
       "      <td>1.000000</td>\n",
       "      <td>-0.331715</td>\n",
       "      <td>-0.185219</td>\n",
       "      <td>-0.133786</td>\n",
       "      <td>0.171881</td>\n",
       "      <td>-0.353816</td>\n",
       "      <td>-0.146486</td>\n",
       "      <td>0.146486</td>\n",
       "    </tr>\n",
       "    <tr>\n",
       "      <th>director_fees</th>\n",
       "      <td>NaN</td>\n",
       "      <td>NaN</td>\n",
       "      <td>NaN</td>\n",
       "      <td>-0.471247</td>\n",
       "      <td>1.000000</td>\n",
       "      <td>0.769988</td>\n",
       "      <td>-0.521463</td>\n",
       "      <td>NaN</td>\n",
       "      <td>NaN</td>\n",
       "      <td>NaN</td>\n",
       "      <td>NaN</td>\n",
       "      <td>NaN</td>\n",
       "      <td>NaN</td>\n",
       "      <td>NaN</td>\n",
       "      <td>NaN</td>\n",
       "    </tr>\n",
       "    <tr>\n",
       "      <th>exercised_stock_options</th>\n",
       "      <td>0.481875</td>\n",
       "      <td>0.506998</td>\n",
       "      <td>0.006560</td>\n",
       "      <td>-0.308076</td>\n",
       "      <td>0.769988</td>\n",
       "      <td>1.000000</td>\n",
       "      <td>0.066763</td>\n",
       "      <td>0.960259</td>\n",
       "      <td>0.500016</td>\n",
       "      <td>0.535934</td>\n",
       "      <td>0.689184</td>\n",
       "      <td>-0.953665</td>\n",
       "      <td>0.607324</td>\n",
       "      <td>0.104583</td>\n",
       "      <td>-0.104583</td>\n",
       "    </tr>\n",
       "    <tr>\n",
       "      <th>expenses</th>\n",
       "      <td>0.055209</td>\n",
       "      <td>0.033799</td>\n",
       "      <td>0.004800</td>\n",
       "      <td>0.085678</td>\n",
       "      <td>-0.521463</td>\n",
       "      <td>0.066763</td>\n",
       "      <td>1.000000</td>\n",
       "      <td>0.658681</td>\n",
       "      <td>-0.100766</td>\n",
       "      <td>0.062874</td>\n",
       "      <td>0.060546</td>\n",
       "      <td>-0.527262</td>\n",
       "      <td>0.145364</td>\n",
       "      <td>0.141256</td>\n",
       "      <td>-0.141256</td>\n",
       "    </tr>\n",
       "    <tr>\n",
       "      <th>loan_advances</th>\n",
       "      <td>0.999851</td>\n",
       "      <td>0.973826</td>\n",
       "      <td>-1.000000</td>\n",
       "      <td>1.000000</td>\n",
       "      <td>NaN</td>\n",
       "      <td>0.960259</td>\n",
       "      <td>0.658681</td>\n",
       "      <td>1.000000</td>\n",
       "      <td>1.000000</td>\n",
       "      <td>1.000000</td>\n",
       "      <td>1.000000</td>\n",
       "      <td>NaN</td>\n",
       "      <td>0.535252</td>\n",
       "      <td>-0.816928</td>\n",
       "      <td>0.816928</td>\n",
       "    </tr>\n",
       "    <tr>\n",
       "      <th>long_term_incentive</th>\n",
       "      <td>0.254723</td>\n",
       "      <td>0.625259</td>\n",
       "      <td>0.042448</td>\n",
       "      <td>-0.331715</td>\n",
       "      <td>NaN</td>\n",
       "      <td>0.500016</td>\n",
       "      <td>-0.100766</td>\n",
       "      <td>1.000000</td>\n",
       "      <td>1.000000</td>\n",
       "      <td>0.529398</td>\n",
       "      <td>0.635172</td>\n",
       "      <td>-0.186597</td>\n",
       "      <td>0.484114</td>\n",
       "      <td>-0.043915</td>\n",
       "      <td>0.043915</td>\n",
       "    </tr>\n",
       "    <tr>\n",
       "      <th>other</th>\n",
       "      <td>0.119166</td>\n",
       "      <td>0.376371</td>\n",
       "      <td>0.385829</td>\n",
       "      <td>-0.185219</td>\n",
       "      <td>NaN</td>\n",
       "      <td>0.535934</td>\n",
       "      <td>0.062874</td>\n",
       "      <td>1.000000</td>\n",
       "      <td>0.529398</td>\n",
       "      <td>1.000000</td>\n",
       "      <td>0.650015</td>\n",
       "      <td>-0.029366</td>\n",
       "      <td>0.606903</td>\n",
       "      <td>0.037809</td>\n",
       "      <td>-0.037809</td>\n",
       "    </tr>\n",
       "    <tr>\n",
       "      <th>restricted_stock</th>\n",
       "      <td>0.218074</td>\n",
       "      <td>0.376992</td>\n",
       "      <td>0.115088</td>\n",
       "      <td>-0.133786</td>\n",
       "      <td>NaN</td>\n",
       "      <td>0.689184</td>\n",
       "      <td>0.060546</td>\n",
       "      <td>1.000000</td>\n",
       "      <td>0.635172</td>\n",
       "      <td>0.650015</td>\n",
       "      <td>1.000000</td>\n",
       "      <td>-0.916527</td>\n",
       "      <td>0.550824</td>\n",
       "      <td>0.060425</td>\n",
       "      <td>-0.060425</td>\n",
       "    </tr>\n",
       "    <tr>\n",
       "      <th>restricted_stock_deferred</th>\n",
       "      <td>NaN</td>\n",
       "      <td>0.118222</td>\n",
       "      <td>-0.217200</td>\n",
       "      <td>0.171881</td>\n",
       "      <td>NaN</td>\n",
       "      <td>-0.953665</td>\n",
       "      <td>-0.527262</td>\n",
       "      <td>NaN</td>\n",
       "      <td>-0.186597</td>\n",
       "      <td>-0.029366</td>\n",
       "      <td>-0.916527</td>\n",
       "      <td>1.000000</td>\n",
       "      <td>-0.592576</td>\n",
       "      <td>-0.424464</td>\n",
       "      <td>0.424464</td>\n",
       "    </tr>\n",
       "    <tr>\n",
       "      <th>salary</th>\n",
       "      <td>0.264976</td>\n",
       "      <td>0.523190</td>\n",
       "      <td>0.455884</td>\n",
       "      <td>-0.353816</td>\n",
       "      <td>NaN</td>\n",
       "      <td>0.607324</td>\n",
       "      <td>0.145364</td>\n",
       "      <td>0.535252</td>\n",
       "      <td>0.484114</td>\n",
       "      <td>0.606903</td>\n",
       "      <td>0.550824</td>\n",
       "      <td>-0.592576</td>\n",
       "      <td>1.000000</td>\n",
       "      <td>-0.028584</td>\n",
       "      <td>0.028584</td>\n",
       "    </tr>\n",
       "    <tr>\n",
       "      <th>message_poi_ratio</th>\n",
       "      <td>0.278311</td>\n",
       "      <td>-0.082795</td>\n",
       "      <td>0.247904</td>\n",
       "      <td>-0.146486</td>\n",
       "      <td>NaN</td>\n",
       "      <td>0.104583</td>\n",
       "      <td>0.141256</td>\n",
       "      <td>-0.816928</td>\n",
       "      <td>-0.043915</td>\n",
       "      <td>0.037809</td>\n",
       "      <td>0.060425</td>\n",
       "      <td>-0.424464</td>\n",
       "      <td>-0.028584</td>\n",
       "      <td>1.000000</td>\n",
       "      <td>-1.000000</td>\n",
       "    </tr>\n",
       "    <tr>\n",
       "      <th>message_others_ratio</th>\n",
       "      <td>-0.278311</td>\n",
       "      <td>0.082795</td>\n",
       "      <td>-0.247904</td>\n",
       "      <td>0.146486</td>\n",
       "      <td>NaN</td>\n",
       "      <td>-0.104583</td>\n",
       "      <td>-0.141256</td>\n",
       "      <td>0.816928</td>\n",
       "      <td>0.043915</td>\n",
       "      <td>-0.037809</td>\n",
       "      <td>-0.060425</td>\n",
       "      <td>0.424464</td>\n",
       "      <td>0.028584</td>\n",
       "      <td>-1.000000</td>\n",
       "      <td>1.000000</td>\n",
       "    </tr>\n",
       "  </tbody>\n",
       "</table>\n",
       "</div>"
      ],
      "text/plain": [
       "                                poi     bonus  deferral_payments  \\\n",
       "poi                        1.000000  0.302384          -0.107254   \n",
       "bonus                      0.302384  1.000000           0.293543   \n",
       "deferral_payments         -0.107254  0.293543           1.000000   \n",
       "deferred_income           -0.265665 -0.411659          -0.881500   \n",
       "director_fees                   NaN       NaN                NaN   \n",
       "exercised_stock_options    0.481875  0.506998           0.006560   \n",
       "expenses                   0.055209  0.033799           0.004800   \n",
       "loan_advances              0.999851  0.973826          -1.000000   \n",
       "long_term_incentive        0.254723  0.625259           0.042448   \n",
       "other                      0.119166  0.376371           0.385829   \n",
       "restricted_stock           0.218074  0.376992           0.115088   \n",
       "restricted_stock_deferred       NaN  0.118222          -0.217200   \n",
       "salary                     0.264976  0.523190           0.455884   \n",
       "message_poi_ratio          0.278311 -0.082795           0.247904   \n",
       "message_others_ratio      -0.278311  0.082795          -0.247904   \n",
       "\n",
       "                           deferred_income  director_fees  \\\n",
       "poi                              -0.265665            NaN   \n",
       "bonus                            -0.411659            NaN   \n",
       "deferral_payments                -0.881500            NaN   \n",
       "deferred_income                   1.000000      -0.471247   \n",
       "director_fees                    -0.471247       1.000000   \n",
       "exercised_stock_options          -0.308076       0.769988   \n",
       "expenses                          0.085678      -0.521463   \n",
       "loan_advances                     1.000000            NaN   \n",
       "long_term_incentive              -0.331715            NaN   \n",
       "other                            -0.185219            NaN   \n",
       "restricted_stock                 -0.133786            NaN   \n",
       "restricted_stock_deferred         0.171881            NaN   \n",
       "salary                           -0.353816            NaN   \n",
       "message_poi_ratio                -0.146486            NaN   \n",
       "message_others_ratio              0.146486            NaN   \n",
       "\n",
       "                           exercised_stock_options  expenses  loan_advances  \\\n",
       "poi                                       0.481875  0.055209       0.999851   \n",
       "bonus                                     0.506998  0.033799       0.973826   \n",
       "deferral_payments                         0.006560  0.004800      -1.000000   \n",
       "deferred_income                          -0.308076  0.085678       1.000000   \n",
       "director_fees                             0.769988 -0.521463            NaN   \n",
       "exercised_stock_options                   1.000000  0.066763       0.960259   \n",
       "expenses                                  0.066763  1.000000       0.658681   \n",
       "loan_advances                             0.960259  0.658681       1.000000   \n",
       "long_term_incentive                       0.500016 -0.100766       1.000000   \n",
       "other                                     0.535934  0.062874       1.000000   \n",
       "restricted_stock                          0.689184  0.060546       1.000000   \n",
       "restricted_stock_deferred                -0.953665 -0.527262            NaN   \n",
       "salary                                    0.607324  0.145364       0.535252   \n",
       "message_poi_ratio                         0.104583  0.141256      -0.816928   \n",
       "message_others_ratio                     -0.104583 -0.141256       0.816928   \n",
       "\n",
       "                           long_term_incentive     other  restricted_stock  \\\n",
       "poi                                   0.254723  0.119166          0.218074   \n",
       "bonus                                 0.625259  0.376371          0.376992   \n",
       "deferral_payments                     0.042448  0.385829          0.115088   \n",
       "deferred_income                      -0.331715 -0.185219         -0.133786   \n",
       "director_fees                              NaN       NaN               NaN   \n",
       "exercised_stock_options               0.500016  0.535934          0.689184   \n",
       "expenses                             -0.100766  0.062874          0.060546   \n",
       "loan_advances                         1.000000  1.000000          1.000000   \n",
       "long_term_incentive                   1.000000  0.529398          0.635172   \n",
       "other                                 0.529398  1.000000          0.650015   \n",
       "restricted_stock                      0.635172  0.650015          1.000000   \n",
       "restricted_stock_deferred            -0.186597 -0.029366         -0.916527   \n",
       "salary                                0.484114  0.606903          0.550824   \n",
       "message_poi_ratio                    -0.043915  0.037809          0.060425   \n",
       "message_others_ratio                  0.043915 -0.037809         -0.060425   \n",
       "\n",
       "                           restricted_stock_deferred    salary  \\\n",
       "poi                                              NaN  0.264976   \n",
       "bonus                                       0.118222  0.523190   \n",
       "deferral_payments                          -0.217200  0.455884   \n",
       "deferred_income                             0.171881 -0.353816   \n",
       "director_fees                                    NaN       NaN   \n",
       "exercised_stock_options                    -0.953665  0.607324   \n",
       "expenses                                   -0.527262  0.145364   \n",
       "loan_advances                                    NaN  0.535252   \n",
       "long_term_incentive                        -0.186597  0.484114   \n",
       "other                                      -0.029366  0.606903   \n",
       "restricted_stock                           -0.916527  0.550824   \n",
       "restricted_stock_deferred                   1.000000 -0.592576   \n",
       "salary                                     -0.592576  1.000000   \n",
       "message_poi_ratio                          -0.424464 -0.028584   \n",
       "message_others_ratio                        0.424464  0.028584   \n",
       "\n",
       "                           message_poi_ratio  message_others_ratio  \n",
       "poi                                 0.278311             -0.278311  \n",
       "bonus                              -0.082795              0.082795  \n",
       "deferral_payments                   0.247904             -0.247904  \n",
       "deferred_income                    -0.146486              0.146486  \n",
       "director_fees                            NaN                   NaN  \n",
       "exercised_stock_options             0.104583             -0.104583  \n",
       "expenses                            0.141256             -0.141256  \n",
       "loan_advances                      -0.816928              0.816928  \n",
       "long_term_incentive                -0.043915              0.043915  \n",
       "other                               0.037809             -0.037809  \n",
       "restricted_stock                    0.060425             -0.060425  \n",
       "restricted_stock_deferred          -0.424464              0.424464  \n",
       "salary                             -0.028584              0.028584  \n",
       "message_poi_ratio                   1.000000             -1.000000  \n",
       "message_others_ratio               -1.000000              1.000000  "
      ]
     },
     "execution_count": 7,
     "metadata": {},
     "output_type": "execute_result"
    }
   ],
   "source": [
    "# Pearson correlation on selected features\n",
    "enron_df[features_list].corr()"
   ]
  },
  {
   "cell_type": "code",
   "execution_count": 20,
   "metadata": {
    "collapsed": false
   },
   "outputs": [
    {
     "data": {
      "image/png": "[encoded data removed]",
      "text/plain": [
       "<matplotlib.figure.Figure at 0xf449cf8>"
      ]
     },
     "metadata": {},
     "output_type": "display_data"
    }
   ],
   "source": [
    "corr = enron_df[features_list].corr()\n",
    "f, ax = plt.subplots(figsize=(15, 11))\n",
    "\n",
    "# Draw the heatmap using seaborn\n",
    "sb.heatmap(corr, vmax=.8, square=True)\n",
    "sb.plt.title('Enron - Pearson Correlation');"
   ]
  },
  {
   "cell_type": "markdown",
   "metadata": {
    "collapsed": false
   },
   "source": [
    "For now I don't know exactly the number of features I want to use, so I decided to use PCA for identify the most important features and explain the variance."
   ]
  },
  {
   "cell_type": "code",
   "execution_count": 14,
   "metadata": {
    "collapsed": false
   },
   "outputs": [
    {
     "name": "stdout",
     "output_type": "stream",
     "text": [
      "1 : 0.861553776228\n",
      "2 : 0.950132015149\n",
      "3 : 0.972382607421\n",
      "4 : 0.984291217742\n",
      "5 : 0.992901638071\n",
      "6 : 0.997163221638\n",
      "7 : 0.998629887008\n",
      "8 : 0.99974306717\n",
      "9 : 0.99987985016\n",
      "10 : 0.999974804349\n",
      "11 : 0.999991386478\n",
      "12 : 0.999999999982\n",
      "13 : 0.999999999993\n",
      "14 : 1.0\n"
     ]
    }
   ],
   "source": [
    "for i in range(1,15):\n",
    "    pca = PCA(svd_solver='auto', n_components=i)\n",
    "    x = pca.fit(features_train).explained_variance_ratio_.sum()\n",
    "    print i,\":\", x    "
   ]
  },
  {
   "cell_type": "markdown",
   "metadata": {
    "collapsed": false
   },
   "source": [
    "In this decomposition, the vector array provided by ratio indicates that most of the information is concentrated into the first 2 compontents . You saw this same sort of result after the factor analysis. it's therefore possible to reduce the entire dataset to just two componentes, providing a reduction of noise and redundant information from the original dataset.\n",
    "\n",
    "Let's see which variables are the most important:"
   ]
  },
  {
   "cell_type": "code",
   "execution_count": 19,
   "metadata": {
    "collapsed": false
   },
   "outputs": [
    {
     "data": {
      "image/png": "[encoded data removed]",
      "text/plain": [
       "<matplotlib.figure.Figure at 0xf818908>"
      ]
     },
     "metadata": {},
     "output_type": "display_data"
    }
   ],
   "source": [
    "from sklearn.preprocessing import StandardScaler\n",
    "\n",
    "z_scaler = MinMaxScaler(feature_range=(0, 1))\n",
    "\n",
    "z_data = z_scaler.fit_transform(features_train)\n",
    "pca_trafo = PCA().fit(z_data);\n",
    "\n",
    "plt.semilogy(pca_trafo.explained_variance_ratio_, '--o')\n",
    "plt.title('Principal Component Analysis - PCA')\n",
    "plt.xlabel('Number of features')\n",
    "plt.ylabel('Variance');"
   ]
  },
  {
   "cell_type": "code",
   "execution_count": 24,
   "metadata": {
    "collapsed": false
   },
   "outputs": [
    {
     "data": {
      "text/html": [
       "<div>\n",
       "<table border=\"1\" class=\"dataframe\">\n",
       "  <thead>\n",
       "    <tr style=\"text-align: right;\">\n",
       "      <th></th>\n",
       "      <th>feature</th>\n",
       "      <th>variance_ratio</th>\n",
       "    </tr>\n",
       "  </thead>\n",
       "  <tbody>\n",
       "    <tr>\n",
       "      <th>0</th>\n",
       "      <td>bonus</td>\n",
       "      <td>86.155</td>\n",
       "    </tr>\n",
       "    <tr>\n",
       "      <th>1</th>\n",
       "      <td>deferral_payments</td>\n",
       "      <td>8.858</td>\n",
       "    </tr>\n",
       "    <tr>\n",
       "      <th>2</th>\n",
       "      <td>deferred_income</td>\n",
       "      <td>2.225</td>\n",
       "    </tr>\n",
       "    <tr>\n",
       "      <th>3</th>\n",
       "      <td>director_fees</td>\n",
       "      <td>1.191</td>\n",
       "    </tr>\n",
       "    <tr>\n",
       "      <th>4</th>\n",
       "      <td>exercised_stock_options</td>\n",
       "      <td>0.861</td>\n",
       "    </tr>\n",
       "    <tr>\n",
       "      <th>5</th>\n",
       "      <td>expenses</td>\n",
       "      <td>0.426</td>\n",
       "    </tr>\n",
       "    <tr>\n",
       "      <th>6</th>\n",
       "      <td>loan_advances</td>\n",
       "      <td>0.147</td>\n",
       "    </tr>\n",
       "    <tr>\n",
       "      <th>7</th>\n",
       "      <td>long_term_incentive</td>\n",
       "      <td>0.111</td>\n",
       "    </tr>\n",
       "    <tr>\n",
       "      <th>8</th>\n",
       "      <td>other</td>\n",
       "      <td>0.014</td>\n",
       "    </tr>\n",
       "    <tr>\n",
       "      <th>9</th>\n",
       "      <td>restricted_stock</td>\n",
       "      <td>0.009</td>\n",
       "    </tr>\n",
       "    <tr>\n",
       "      <th>10</th>\n",
       "      <td>restricted_stock_deferred</td>\n",
       "      <td>0.002</td>\n",
       "    </tr>\n",
       "    <tr>\n",
       "      <th>11</th>\n",
       "      <td>salary</td>\n",
       "      <td>0.001</td>\n",
       "    </tr>\n",
       "    <tr>\n",
       "      <th>12</th>\n",
       "      <td>message_poi_ratio</td>\n",
       "      <td>0.000</td>\n",
       "    </tr>\n",
       "    <tr>\n",
       "      <th>13</th>\n",
       "      <td>message_others_ratio</td>\n",
       "      <td>0.000</td>\n",
       "    </tr>\n",
       "  </tbody>\n",
       "</table>\n",
       "</div>"
      ],
      "text/plain": [
       "                      feature  variance_ratio\n",
       "0                       bonus          86.155\n",
       "1           deferral_payments           8.858\n",
       "2             deferred_income           2.225\n",
       "3               director_fees           1.191\n",
       "4     exercised_stock_options           0.861\n",
       "5                    expenses           0.426\n",
       "6               loan_advances           0.147\n",
       "7         long_term_incentive           0.111\n",
       "8                       other           0.014\n",
       "9            restricted_stock           0.009\n",
       "10  restricted_stock_deferred           0.002\n",
       "11                     salary           0.001\n",
       "12          message_poi_ratio           0.000\n",
       "13       message_others_ratio           0.000"
      ]
     },
     "execution_count": 24,
     "metadata": {},
     "output_type": "execute_result"
    }
   ],
   "source": [
    "pca = PCA(n_components=14)\n",
    "pca.fit_transform(features_train)\n",
    "pca_df = pd.DataFrame(zip(features_list[1:],\n",
    "                          np.round(pca.explained_variance_ratio_, decimals=5)*100), \n",
    "                      columns=['feature','variance_ratio'])\n",
    "#pca_df.sort_values(by='variance_ratio',ascending = False)\n",
    "pca_df"
   ]
  },
  {
   "cell_type": "markdown",
   "metadata": {},
   "source": [
    "I really don't wanna that the features negatively impact my model performance. I'll spend more time on this and try SelecKbest for in this task. \n",
    "\n",
    "First of all, I scaled the data with MinMaxScaler (range 0, 1), then I applyied SelectKBest chi squared statistical test, cause this test need non-negative features. After that I used SelectKBest ANOVA F-value statistical test on the raw data, in a way I could compare the results."
   ]
  },
  {
   "cell_type": "code",
   "execution_count": 23,
   "metadata": {
    "collapsed": false
   },
   "outputs": [
    {
     "name": "stdout",
     "output_type": "stream",
     "text": [
      "SelectKBest: \n",
      "                      feature      anova      chi2\n",
      "4     exercised_stock_options  22.087532  6.246159\n",
      "0                       bonus  20.524645  5.048256\n",
      "11                     salary  18.003740  2.989183\n",
      "2             deferred_income  11.320185  0.338413\n",
      "12          message_poi_ratio   9.839077  3.394583\n",
      "7         long_term_incentive   9.772104  2.497366\n",
      "9            restricted_stock   8.694888  2.463442\n",
      "6               loan_advances   7.125382  6.634816\n",
      "5                    expenses   5.287549  1.293600\n",
      "8                       other   4.143788  1.703679\n",
      "3               director_fees   1.972788  1.508957\n",
      "13       message_others_ratio   1.485396  0.404153\n",
      "10  restricted_stock_deferred   0.767702  0.008756\n",
      "1           deferral_payments   0.236711  0.094344\n"
     ]
    }
   ],
   "source": [
    "scaler = MinMaxScaler(feature_range=(0, 1))\n",
    "features_scaled = scaler.fit_transform(features)\n",
    "\n",
    "selector = SelectKBest(chi2, k='all').fit(features_scaled, labels)\n",
    "k_best = SelectKBest(f_classif,k='all').fit(features, labels)   \n",
    "\n",
    "# Format values\n",
    "kbest_pd = pd.DataFrame(zip(features_list[1:],\n",
    "                            k_best.scores_, # K best score                            \n",
    "                            selector.scores_), # chi2\n",
    "                        columns = ['feature','anova', 'chi2'])\n",
    "print \"SelectKBest: \"\n",
    "print kbest_pd.sort_values(by='anova',ascending = False)"
   ]
  },
  {
   "cell_type": "code",
   "execution_count": 24,
   "metadata": {
    "collapsed": false
   },
   "outputs": [
    {
     "data": {
      "image/png": "[encoded data removed]",
      "text/plain": [
       "<matplotlib.figure.Figure at 0xe7ce0b8>"
      ]
     },
     "metadata": {},
     "output_type": "display_data"
    }
   ],
   "source": [
    "# Corr heatmap\n",
    "f, ax = plt.subplots(figsize=(18,7))\n",
    "\n",
    "sb.barplot(x='feature', y='chi2', data=kbest_pd.sort_values(by='chi2',ascending = False), palette='RdBu')\n",
    "\n",
    "plt.xticks(rotation=30);"
   ]
  },
  {
   "cell_type": "markdown",
   "metadata": {
    "collapsed": false
   },
   "source": [
    "The two metrics returned similar values of importance for the features. They differed only in the loan_advances and salary records.\n",
    "I'm happy to know that the feature I created message_poi_ratio got a good score."
   ]
  },
  {
   "cell_type": "markdown",
   "metadata": {},
   "source": [
    "# 7. Testing models"
   ]
  },
  {
   "cell_type": "code",
   "execution_count": 13,
   "metadata": {
    "collapsed": false
   },
   "outputs": [
    {
     "name": "stdout",
     "output_type": "stream",
     "text": [
      "                        Model  Precision  Recall  Accuracy\n",
      "7                  KNeighbors   0.705556  0.1270  0.876533\n",
      "2                RandomForest   0.441931  0.1465  0.861533\n",
      "5        ExtraTreesClassifier   0.411685  0.1515  0.858000\n",
      "4                    AdaBoost   0.418319  0.3060  0.850733\n",
      "8             NearestCentroid   0.376596  0.2655  0.843467\n",
      "3  GradientBoostingClassifier   0.260177  0.2205  0.812467\n",
      "1                DecisionTree   0.252969  0.2450  0.802867\n",
      "6          LogisticRegression   0.164218  0.1900  0.763067\n",
      "0                 Naive Bayes   0.219135  0.6230  0.653733\n"
     ]
    }
   ],
   "source": [
    "models = []\n",
    "# naive_bayes\n",
    "models.append(('Naive Bayes', GaussianNB()))\n",
    "# tree\n",
    "models.append(('DecisionTree', DecisionTreeClassifier(random_state=42)))\n",
    "# ensemble\n",
    "models.append(('RandomForest', RandomForestClassifier(n_estimators=100, random_state=42)))\n",
    "models.append(('GradientBoostingClassifier', GradientBoostingClassifier(n_estimators=100, learning_rate=1.0)))\n",
    "\n",
    "models.append(('AdaBoost', AdaBoostClassifier(n_estimators=100, random_state=42)))\n",
    "models.append(('ExtraTreesClassifier', ExtraTreesClassifier(n_estimators=100, random_state=42)))\n",
    "# linear_model\n",
    "models.append(('LogisticRegression', LogisticRegression(random_state=42)))\n",
    "# neighbors\n",
    "models.append(('KNeighbors', KNeighborsClassifier(n_neighbors=5)))\n",
    "models.append(('NearestCentroid', NearestCentroid()))\n",
    "\n",
    "accuracy_model = []\n",
    "score = []\n",
    "for name, clf in models:  \n",
    "    tm = time()\n",
    "    #print \"Start testing classifier:\", name\n",
    "\n",
    "    score = test_classifier(clf, my_dataset, features_list)\n",
    "    accuracy_model.append([name,score[2], score[3], score[1]])\n",
    "    \n",
    "scores = pd.DataFrame(accuracy_model,\n",
    "                      columns=('Model', \n",
    "                               'Precision', \n",
    "                               'Recall',\n",
    "                               'Accuracy')).sort_values(by='Accuracy',\n",
    "                                                    ascending = False)\n",
    "\n",
    "print scores"
   ]
  },
  {
   "cell_type": "markdown",
   "metadata": {},
   "source": [
    "As I'm interested in the three metrics recall, precision and accuracy in the test with basic parameters, the Models NearestCentroid and GradientBoostingClassifier had a score close to the expected of 0.3. Even without tuning the AdaBoost reached the metric with a precision of 0.41, recall of 0.30 and a good percentage of acuracia of 85%."
   ]
  },
  {
   "cell_type": "markdown",
   "metadata": {
    "collapsed": true
   },
   "source": [
    "One of the models has reached the goal, but what if we can increase the precision and recall of the other models? Sounds like a good mission, does not it? We, will try."
   ]
  },
  {
   "cell_type": "markdown",
   "metadata": {},
   "source": [
    "# 8. Tuning Algorithm Parameters"
   ]
  },
  {
   "cell_type": "markdown",
   "metadata": {},
   "source": [
    "## 8.1. GradientBoostingClassifier"
   ]
  },
  {
   "cell_type": "code",
   "execution_count": 14,
   "metadata": {
    "collapsed": false
   },
   "outputs": [
    {
     "name": "stdout",
     "output_type": "stream",
     "text": [
      "Pipeline(steps=[('scale', StandardScaler(copy=True, with_mean=False, with_std=True)), ('classify', GradientBoostingClassifier(criterion='mae', init=None, learning_rate=1.0,\n",
      "              loss='exponential', max_depth=3, max_features=0.5,\n",
      "              max_leaf_nodes=100, min_impurity_split=1e-07,\n",
      "           ...        presort='auto', random_state=42, subsample=1.0, verbose=0,\n",
      "              warm_start=False))])\n",
      "\tAccuracy: 0.83473\tPrecision: 0.31391\tRecall: 0.20200\tF1: 0.24582\tF2: 0.21751\n",
      "\tTotal predictions: 15000\tTrue positives:  404\tFalse positives:  883\tFalse negatives: 1596\tTrue negatives: 12117\n",
      "\n"
     ]
    }
   ],
   "source": [
    "pipeline = Pipeline([('scale', StandardScaler(with_mean=False)),\n",
    "                     ('classify', GradientBoostingClassifier(random_state=42))])\n",
    "\n",
    "param_grid = {\n",
    "        'classify__criterion': ['mae', 'friedman_mse', 'mse'],\n",
    "        'classify__n_estimators' : [50, 100, 150],\n",
    "        'classify__learning_rate':[0.05, 0.1, 1.0],\n",
    "        'classify__loss' : ['deviance', 'exponential'],    \n",
    "        'classify__max_leaf_nodes': [100, 150],\n",
    "        'classify__max_features': [0.50]       \n",
    "    }\n",
    "grid = GridSearchCV(\n",
    "    pipeline, param_grid=param_grid, cv=10, scoring='accuracy')\n",
    "\n",
    "grid.fit(features,labels)\n",
    "clf = grid.best_estimator_\n",
    "test_classifier(clf, my_dataset, features_list, print_result=True)"
   ]
  },
  {
   "cell_type": "markdown",
   "metadata": {
    "collapsed": true
   },
   "source": [
    "After a scale and a search for best params with gridsearchCV we improve all of three scores, but I can't  able to achieve a recall greater than 0.30.\n",
    "\n",
    "| Model                        | Precision |    Recall | Accuracy  |\n",
    "|------------------------------|-----------|-----------|-----------|\n",
    "|GradientBoosting before       |   0.26017 |     0.2205|    0.81246|\n",
    "|GradientBoosting after tuning |   0.31391 |     0.2020|    0.83473|"
   ]
  },
  {
   "cell_type": "markdown",
   "metadata": {},
   "source": [
    "## 8.2. NearestCentroid"
   ]
  },
  {
   "cell_type": "code",
   "execution_count": 11,
   "metadata": {
    "collapsed": false
   },
   "outputs": [
    {
     "name": "stdout",
     "output_type": "stream",
     "text": [
      "Pipeline(steps=[('scale', StandardScaler(copy=True, with_mean=False, with_std=True)), ('reduce_dim', PCA(copy=True, iterated_power='auto', n_components=5, random_state=42,\n",
      "  svd_solver='auto', tol=0.0, whiten=False)), ('classifier', NearestCentroid(metric='cityblock', shrink_threshold=0.001))])\n",
      "\tAccuracy: 0.81113\tPrecision: 0.35857\tRecall: 0.52800\tF1: 0.42710\tF2: 0.48241\n",
      "\tTotal predictions: 15000\tTrue positives: 1056\tFalse positives: 1889\tFalse negatives:  944\tTrue negatives: 11111\n",
      "\n"
     ]
    }
   ],
   "source": [
    "pipeline = Pipeline(steps=[('scale', StandardScaler()),\n",
    "                           ('reduce_dim', PCA(copy=True, random_state=42)),\n",
    "                           ('classifier', NearestCentroid())\n",
    "                          ])\n",
    "\n",
    "param_grid = {'scale' : [StandardScaler(with_mean=False)],\n",
    "              'reduce_dim__n_components': [3, 5, 6],\n",
    "              'classifier__metric': ['cityblock', 'euclidean', 'l1', 'l2', 'manhattan'],\n",
    "              'classifier__shrink_threshold'  : [0.001, 0.01, 0.1, 1.0]\n",
    "         }\n",
    "\n",
    "#scv = StratifiedShuffleSplit(labels_train, 1000, random_state = 42)\n",
    "\n",
    "grid = GridSearchCV(\n",
    "    pipeline, param_grid=param_grid, cv=10, scoring='accuracy')\n",
    "\n",
    "grid.fit(features_train, labels_train)\n",
    "\n",
    "clf = grid.best_estimator_\n",
    "test_classifier(clf, my_dataset, features_list, print_result=True)"
   ]
  },
  {
   "cell_type": "markdown",
   "metadata": {
    "collapsed": true
   },
   "source": [
    "Now I'm happier with the result, although it has reduced Precision and accuracy a bit, there was a significant increase in recall.\n",
    "\n",
    "| Model                        | Precision |    Recall | Accuracy  |\n",
    "|------------------------------|-----------|-----------|-----------|\n",
    "|NearestCentroid before        |    0.37659|     0.2655|    0.84346|\n",
    "|NearestCentroid after tuning  |    0.35857|     0.5280|    0.81113|"
   ]
  },
  {
   "cell_type": "markdown",
   "metadata": {},
   "source": [
    "## 8.3. Last but not least...  AdaBoostClassifier"
   ]
  },
  {
   "cell_type": "markdown",
   "metadata": {},
   "source": [
    "First, I'll tuning the classify that I'll use after as base estimator on Adaboost."
   ]
  },
  {
   "cell_type": "code",
   "execution_count": 13,
   "metadata": {
    "collapsed": false
   },
   "outputs": [
    {
     "name": "stdout",
     "output_type": "stream",
     "text": [
      "Pipeline(steps=[('minmaxer', StandardScaler(copy=True, with_mean=False, with_std=True)), ('classifier', DecisionTreeClassifier(class_weight='balanced', criterion='gini',\n",
      "            max_depth=None, max_features=2, max_leaf_nodes=None,\n",
      "            min_impurity_split=1e-07, min_samples_leaf=1,\n",
      "            min_samples_split=0.5, min_weight_fraction_leaf=0.0,\n",
      "            presort=False, random_state=42, splitter='random'))])\n",
      "\tAccuracy: 0.69340\tPrecision: 0.26824\tRecall: 0.75200\tF1: 0.39543\tF2: 0.55266\n",
      "\tTotal predictions: 15000\tTrue positives: 1504\tFalse positives: 4103\tFalse negatives:  496\tTrue negatives: 8897\n",
      "\n"
     ]
    }
   ],
   "source": [
    "pipeline = Pipeline(steps=[('minmaxer', StandardScaler(with_mean=False)),\n",
    "                           ('classifier', DecisionTreeClassifier(random_state=42))\n",
    "                          ])\n",
    "params = {\n",
    "          'classifier__max_features': [2, 6, 10],\n",
    "          'classifier__min_samples_split' : [0.1, .50, .90],\n",
    "          'classifier__splitter' : ['best' , 'random'],\n",
    "          'classifier__min_samples_leaf': [1, 3, 10,15],\n",
    "          'classifier__class_weight' : ['balanced', None],\n",
    "          'classifier__criterion': [\"gini\", \"entropy\"]\n",
    "        }\n",
    "\n",
    "grid = GridSearchCV(pipeline, param_grid = params,scoring = 'recall', cv=10)\n",
    "grid.fit(features_train, labels_train)\n",
    "\n",
    "clf_dt = grid.best_estimator_\n",
    "\n",
    "test_classifier(clf_dt, my_dataset, features_list, print_result=True)"
   ]
  },
  {
   "cell_type": "code",
   "execution_count": 21,
   "metadata": {
    "collapsed": false
   },
   "outputs": [
    {
     "name": "stdout",
     "output_type": "stream",
     "text": [
      "Pipeline(steps=[('minmaxer', MinMaxScaler(copy=True, feature_range=(0, 1))), ('classifier', AdaBoostClassifier(algorithm='SAMME',\n",
      "          base_estimator=DecisionTreeClassifier(class_weight='balanced', criterion='gini',\n",
      "            max_depth=None, max_features=2, max_leaf_nodes=None,\n",
      "            min_impurit...ndom_state=42, splitter='random'),\n",
      "          learning_rate=0.1, n_estimators=150, random_state=42))])\n",
      "\tAccuracy: 0.79020\tPrecision: 0.34504\tRecall: 0.63850\tF1: 0.44799\tF2: 0.54568\n",
      "\tTotal predictions: 15000\tTrue positives: 1277\tFalse positives: 2424\tFalse negatives:  723\tTrue negatives: 10576\n",
      "\n"
     ]
    }
   ],
   "source": [
    "pipeline = Pipeline(steps=[('minmaxer', MinMaxScaler(feature_range=(0, 1))),\n",
    "                           ('classifier', AdaBoostClassifier(random_state=42))\n",
    "                               ])\n",
    "params = {'classifier__base_estimator': [DecisionTreeClassifier(class_weight='balanced', criterion='gini',\n",
    "                                        max_depth=None, max_features=2, max_leaf_nodes=None,\n",
    "                                        min_samples_leaf=1,\n",
    "                                        min_samples_split=0.5, min_weight_fraction_leaf=0.0,\n",
    "                                        presort=False, random_state=42, splitter='random')], \n",
    "          'classifier__n_estimators': [150,200],          \n",
    "          'classifier__learning_rate' :[0.01, 0.05, 0.1, 1.0],\n",
    "          'classifier__algorithm' : ['SAMME.R', 'SAMME']\n",
    "               }\n",
    "\n",
    "# You can use StratifiedShuffleSplit\n",
    "#scv = StratifiedShuffleSplit(features_train, 1000, random_state = 42)\n",
    "\n",
    "# set up gridsearch\n",
    "grid = GridSearchCV(pipeline, param_grid = params,scoring = 'f1', cv=10)\n",
    "grid.fit(features_train, labels_train)\n",
    "\n",
    "clf = grid.best_estimator_\n",
    "\n",
    "test_classifier(clf, my_dataset, features_list, print_result=True)"
   ]
  },
  {
   "cell_type": "markdown",
   "metadata": {},
   "source": [
    "We got it! I think I found the one ;)\n",
    "\n",
    "I tried to reduce dimensionality but did not succeed. So I chose not to use PCA or Kbest.\n",
    "This model achieves the goal of a score greater than 0.30 for recall and precision.\n",
    "\n",
    "\n",
    "| Model                           | Precision |    Recall | Accuracy  |\n",
    "|---------------------------------|-----------|-----------|-----------|\n",
    "|AdaBoostClassifier before        |    0.41831|     0.3060|    0.85073|\n",
    "|AdaBoostClassifier after tuning  |    0.34504|     0.6385|    0.79020|"
   ]
  },
  {
   "cell_type": "code",
   "execution_count": 112,
   "metadata": {
    "collapsed": false
   },
   "outputs": [],
   "source": [
    "# For each k value get precision, recall and accuracy. \n",
    "# This code snippet may take a long time to run, uncomment if you want to calculate the values again.\n",
    "\"\"\"\n",
    "accuracy_model = []\n",
    "for k in range(2,8,1):\n",
    "\n",
    "    pipeline = Pipeline(steps=[(\"selection\", SelectKBest(k=k)),\n",
    "                                (\"classifier\", AdaBoostClassifier(random_state=42, \n",
    "                                                                  n_estimators = 150,\n",
    "                                                                  learning_rate = 0.1,\n",
    "                                                                  algorithm = 'SAMME'))\n",
    "                              ])\n",
    "\n",
    "    \n",
    "    pipeline.fit(features_train, labels_train)\n",
    "\n",
    "    clf = pipeline\n",
    "\n",
    "    score = test_classifier(clf, my_dataset, features_list)\n",
    "    accuracy_model.append([k,score[2], score[3], score[1]])\n",
    "    \n",
    "scores = pd.DataFrame(accuracy_model,\n",
    "                      columns=('K', \n",
    "                               'Precision', \n",
    "                               'Recall',\n",
    "                               'Accuracy')).sort_values(by='Accuracy',\n",
    "                                                    ascending = False)\n",
    "\"\"\"                                                    "
   ]
  },
  {
   "cell_type": "code",
   "execution_count": 128,
   "metadata": {
    "collapsed": false
   },
   "outputs": [],
   "source": [
    "\"\"\"\n",
    "scores = scores.sort_values(by='K', ascending = False)\n",
    "\"\"\""
   ]
  },
  {
   "cell_type": "code",
   "execution_count": 135,
   "metadata": {
    "collapsed": false
   },
   "outputs": [
    {
     "data": {
      "image/png": "[encoded data removed]",
      "text/plain": [
       "<matplotlib.figure.Figure at 0x281d6fb38>"
      ]
     },
     "metadata": {},
     "output_type": "display_data"
    }
   ],
   "source": [
    "\"\"\"\n",
    "plt.plot(scores['K'],scores['Accuracy'], label='Accuracy')\n",
    "plt.plot(scores['K'],scores['Precision'], label='Precision')\n",
    "plt.plot(scores['K'],scores['Recall'], label='Recall')\n",
    "plt.legend(loc='best')\n",
    "plt.xlabel('k')\n",
    "plt.ylabel('Score')\n",
    "plt.show()\n",
    "#plt.savefig('scores_k.png')\n",
    "\"\"\""
   ]
  },
  {
   "cell_type": "markdown",
   "metadata": {},
   "source": [
    "Unfortunately for the chosen classifier selectKbest method did not improve the performance."
   ]
  },
  {
   "cell_type": "markdown",
   "metadata": {
    "collapsed": false
   },
   "source": [
    "## Now I'm a bit curious...\n",
    "about how much other models can be improved. Let's continue the tests."
   ]
  },
  {
   "cell_type": "markdown",
   "metadata": {},
   "source": [
    "## 8.4. RandomForestClassifier"
   ]
  },
  {
   "cell_type": "code",
   "execution_count": 28,
   "metadata": {
    "collapsed": false
   },
   "outputs": [
    {
     "name": "stdout",
     "output_type": "stream",
     "text": [
      "Pipeline(steps=[('scale', MinMaxScaler(copy=True, feature_range=(0, 1))), ('classifier', RandomForestClassifier(bootstrap=True, class_weight=None, criterion='gini',\n",
      "            max_depth=5, max_features=2, max_leaf_nodes=None,\n",
      "            min_impurity_split=1e-07, min_samples_leaf=1,\n",
      "            min_samples_split=2, min_weight_fraction_leaf=0.0,\n",
      "            n_estimators=10, n_jobs=1, oob_score=False, random_state=None,\n",
      "            verbose=0, warm_start=False))])\n",
      "\tAccuracy: 0.86080\tPrecision: 0.43103\tRecall: 0.13750\tF1: 0.20849\tF2: 0.15918\n",
      "\tTotal predictions: 15000\tTrue positives:  275\tFalse positives:  363\tFalse negatives: 1725\tTrue negatives: 12637\n",
      "\n"
     ]
    }
   ],
   "source": [
    "pipeline =   Pipeline([('scale', MinMaxScaler(feature_range=(0, 1))),\n",
    "                       ('classifier', RandomForestClassifier())\n",
    "                      ])\n",
    "\n",
    "param_grid = {'scale': [None, MaxAbsScaler(), MinMaxScaler(feature_range=(0, 1))],\n",
    "              'classifier__max_depth': [5, 3, 1],\n",
    "              'classifier__max_features': [2],\n",
    "              'classifier__min_samples_leaf': [1, 3, 10,15],\n",
    "              'classifier__bootstrap': [True, False],\n",
    "              'classifier__criterion': ['gini', 'entropy']\n",
    "             }\n",
    "\n",
    "grid = GridSearchCV(pipeline, param_grid=param_grid, cv=10, scoring='recall')\n",
    "\n",
    "grid.fit(features_train, labels_train)\n",
    "\n",
    "clf =  grid.best_estimator_\n",
    "test_classifier(clf, my_dataset, features_list, print_result=True)"
   ]
  },
  {
   "cell_type": "markdown",
   "metadata": {},
   "source": [
    "No significant improvement:\n",
    "\n",
    "| Model                           | Precision |    Recall | Accuracy  |\n",
    "|---------------------------------|-----------|-----------|-----------|\n",
    "|RandomForest before              |    0.44193|     0.1465|    0.86153|\n",
    "|RandomForest after tuning        |    0.43103|     0.1375|    0.86080|"
   ]
  },
  {
   "cell_type": "markdown",
   "metadata": {},
   "source": [
    "## 8.5. KNeighborsClassifier"
   ]
  },
  {
   "cell_type": "code",
   "execution_count": 16,
   "metadata": {
    "collapsed": false
   },
   "outputs": [
    {
     "name": "stdout",
     "output_type": "stream",
     "text": [
      "Pipeline(steps=[('scale', StandardScaler(copy=True, with_mean=False, with_std=True)), ('classifier', KNeighborsClassifier(algorithm='auto', leaf_size=30, metric='minkowski',\n",
      "           metric_params=None, n_jobs=1, n_neighbors=2, p=2,\n",
      "           weights='distance'))])\n",
      "\tAccuracy: 0.83980\tPrecision: 0.39456\tRecall: 0.37700\tF1: 0.38558\tF2: 0.38039\n",
      "\tTotal predictions: 15000\tTrue positives:  754\tFalse positives: 1157\tFalse negatives: 1246\tTrue negatives: 11843\n",
      "\n"
     ]
    }
   ],
   "source": [
    "combined_features = FeatureUnion([(\"pca\", PCA(random_state=42)), \n",
    "                                  (\"select\", SelectKBest()),\n",
    "                                  ('scale', StandardScaler(with_mean=False))])\n",
    "\n",
    "\n",
    "pipeline = Pipeline(steps=[('features', combined_features),\n",
    "                           ('classifier', KNeighborsClassifier())\n",
    "                          ])\n",
    "\n",
    "param_grid = {'features__scale' : [None, StandardScaler(with_mean=False)],\n",
    "              'features__select__k': [6, 10, 14],\n",
    "              'features__pca__n_components': [10],\n",
    "              'classifier__metric': ['minkowski','euclidean'],\n",
    "              'classifier__n_neighbors' : range(2,14,2),\n",
    "              'classifier__weights' : ['uniform','distance']\n",
    "             }\n",
    "\n",
    "grid = GridSearchCV(\n",
    "    pipeline, param_grid=param_grid, cv=10, scoring='recall')\n",
    "\n",
    "grid.fit(features_train, labels_train)\n",
    "\n",
    "clf = grid.best_estimator_\n",
    "test_classifier(clf, my_dataset, features_list, print_result=True)"
   ]
  },
  {
   "cell_type": "markdown",
   "metadata": {},
   "source": [
    "This classifier had a decrease in the recall score. Now it has a more balanced values for precision and recall.\n",
    "\n",
    "| Model                           | Precision |    Recall | Accuracy  |\n",
    "|---------------------------------|-----------|-----------|-----------|\n",
    "|KNeighbors before                |    0.70555|     0.1270|    0.87653|\n",
    "|KNeighbors after tuning          |    0.39456|     0.3770|    0.83980|"
   ]
  },
  {
   "cell_type": "markdown",
   "metadata": {},
   "source": [
    "## 8.6. LogisticRegression"
   ]
  },
  {
   "cell_type": "code",
   "execution_count": 16,
   "metadata": {
    "collapsed": false
   },
   "outputs": [
    {
     "name": "stdout",
     "output_type": "stream",
     "text": [
      "Pipeline(steps=[('features', FeatureUnion(n_jobs=1,\n",
      "       transformer_list=[('pca', PCA(copy=True, iterated_power='auto', n_components=5, random_state=42,\n",
      "  svd_solver='auto', tol=0.0, whiten=False)), ('scale', StandardScaler(copy=True, with_mean=False, with_std=True))],\n",
      "       transformer_weights=None)), (...alty='l2', random_state=42,\n",
      "          solver='liblinear', tol=0.0001, verbose=0, warm_start=False))])\n",
      "\tAccuracy: 0.78627\tPrecision: 0.31705\tRecall: 0.52250\tF1: 0.39464\tF2: 0.46255\n",
      "\tTotal predictions: 15000\tTrue positives: 1045\tFalse positives: 2251\tFalse negatives:  955\tTrue negatives: 10749\n",
      "\n"
     ]
    }
   ],
   "source": [
    "combined_features = FeatureUnion([(\"pca\", PCA(random_state=42)), \n",
    "                                  ('scale', MinMaxScaler(feature_range=(0, 1)))])\n",
    "\n",
    "\n",
    "\n",
    "pipeline = Pipeline(steps=[('features', combined_features),\n",
    "                           ('classifier', LogisticRegression(random_state=42))\n",
    "                          ])\n",
    "\n",
    "param_grid = {'features__scale': [StandardScaler(with_mean=False), None],\n",
    "              'features__pca__n_components' :[3,5,6],\n",
    "              'classifier__C': [0.05, 0.5, 1, 10, 100, 500, 1000],\n",
    "              'classifier__solver': ['liblinear'],\n",
    "              'classifier__penalty': ['l2'], \n",
    "              'classifier__class_weight': [None, 'balanced']\n",
    "             }\n",
    "\n",
    "grid = GridSearchCV(pipeline, param_grid=param_grid, cv=10, scoring='f1')\n",
    "\n",
    "grid.fit(features_train, labels_train)\n",
    "clf = grid.best_estimator_\n",
    "test_classifier(clf, my_dataset, features_list, print_result=True)"
   ]
  },
  {
   "cell_type": "markdown",
   "metadata": {
    "collapsed": false
   },
   "source": [
    "I really liked the improvement achieved in this classifier after tuning. The recall score went from 0.19 to 0.57. This model was a strong candidate, but did not have an accuracy above 80% that was my expectation.\n",
    "\n",
    "| Model                           | Precision |    Recall | Accuracy  |\n",
    "|---------------------------------|-----------|-----------|-----------|\n",
    "|LogisticRegression  before       |    0.16421|     0.1900|    0.76306|\n",
    "|LogisticRegression  after tuning |    0.31705|     0.5225|    0.78627|"
   ]
  },
  {
   "cell_type": "markdown",
   "metadata": {},
   "source": [
    "## 8.7. ExtraTreesClassifier"
   ]
  },
  {
   "cell_type": "code",
   "execution_count": 32,
   "metadata": {
    "collapsed": false
   },
   "outputs": [
    {
     "name": "stdout",
     "output_type": "stream",
     "text": [
      "Pipeline(steps=[('minmaxer', MinMaxScaler(copy=True, feature_range=(0, 1))), ('classifier', ExtraTreesClassifier(bootstrap=False, class_weight='balanced',\n",
      "           criterion='gini', max_depth=None, max_features=2,\n",
      "           max_leaf_nodes=None, min_impurity_split=1e-07,\n",
      "           min_samples_leaf=10, min_samples_split=0.1,\n",
      "           min_weight_fraction_leaf=0.0, n_estimators=10, n_jobs=1,\n",
      "           oob_score=False, random_state=42, verbose=0, warm_start=False))])\n",
      "\tAccuracy: 0.63640\tPrecision: 0.22082\tRecall: 0.68300\tF1: 0.33374\tF2: 0.48146\n",
      "\tTotal predictions: 15000\tTrue positives: 1366\tFalse positives: 4820\tFalse negatives:  634\tTrue negatives: 8180\n",
      "\n"
     ]
    }
   ],
   "source": [
    "pipeline = Pipeline(steps=[('minmaxer', MinMaxScaler(feature_range=(0, 1))),\n",
    "                           ('classifier', ExtraTreesClassifier(random_state=42))\n",
    "                          ])\n",
    "params = {\n",
    "          'classifier__max_features': [2, 6, 10],\n",
    "          'classifier__min_samples_split' : [0.1, .50, .90],\n",
    "          'classifier__min_samples_leaf': [1, 3, 10,15],\n",
    "          'classifier__class_weight' : ['balanced', None],\n",
    "          'classifier__criterion': [\"gini\", \"entropy\"]\n",
    "        }\n",
    "\n",
    "grid = GridSearchCV(pipeline, param_grid = params,scoring = 'recall', cv=10)\n",
    "grid.fit(features_train, labels_train)\n",
    "\n",
    "clf_bs = grid.best_estimator_\n",
    "\n",
    "test_classifier(clf_bs, my_dataset, features_list, print_result=True)"
   ]
  },
  {
   "cell_type": "markdown",
   "metadata": {},
   "source": [
    "| Model                             | Precision |    Recall | Accuracy  |\n",
    "|-----------------------------------|-----------|-----------|-----------|\n",
    "|ExtraTreesClassifier  before       |    0.41168|     0.1515|    0.85800|\n",
    "|ExtraTreesClassifier  after tuning |    0.22082|     0.6830|    0.63640|"
   ]
  },
  {
   "cell_type": "markdown",
   "metadata": {
    "collapsed": true
   },
   "source": [
    "# Conclusion\n",
    "\n",
    "I was pleased with the improvement in the result of the classifier, but I would like to achieved a higher precision score for AdaBoost classifier.\n",
    "\n",
    "This classifier for the proposed task of identifying those involved with fraud would require a much larger training database, with more examples to increase the model's ability to identify POIs in a given set of data."
   ]
  },
  {
   "cell_type": "code",
   "execution_count": null,
   "metadata": {
    "collapsed": true
   },
   "outputs": [],
   "source": []
  }
 ],
 "metadata": {
  "kernelspec": {
   "display_name": "Python 2",
   "language": "python",
   "name": "python2"
  },
  "language_info": {
   "codemirror_mode": {
    "name": "ipython",
    "version": 2
   },
   "file_extension": ".py",
   "mimetype": "text/x-python",
   "name": "python",
   "nbconvert_exporter": "python",
   "pygments_lexer": "ipython2",
   "version": "2.7.13"
  }
 },
 "nbformat": 4,
 "nbformat_minor": 2
}
